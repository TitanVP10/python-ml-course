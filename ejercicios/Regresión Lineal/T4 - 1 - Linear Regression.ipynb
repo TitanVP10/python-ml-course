{
 "cells": [
  {
   "cell_type": "markdown",
   "metadata": {},
   "source": [
    "# Modelo de regresión lineal"
   ]
  },
  {
   "cell_type": "markdown",
   "metadata": {},
   "source": [
    "## Modelo con datos simulados\n",
    "* y = a + x*b\n",
    "* X : 100 valores distribuidos según una N(1.5,2.5)\n",
    "* Ye = 5 + 1.9*x + e\n",
    "* e estará distribuido según una N(0,0.8)\n"
   ]
  },
  {
   "cell_type": "code",
   "execution_count": 1,
   "metadata": {},
   "outputs": [],
   "source": [
    "import pandas as pd \n",
    "import numpy as np"
   ]
  },
  {
   "cell_type": "code",
   "execution_count": 2,
   "metadata": {},
   "outputs": [],
   "source": [
    "x = 1.5 + 1.9*np.random.randn(100)"
   ]
  },
  {
   "cell_type": "code",
   "execution_count": 3,
   "metadata": {},
   "outputs": [],
   "source": [
    "res = 0 + 0.8*np.random.randn(100)"
   ]
  },
  {
   "cell_type": "code",
   "execution_count": 4,
   "metadata": {},
   "outputs": [],
   "source": [
    "y_pred = 5 + 1.9*x"
   ]
  },
  {
   "cell_type": "code",
   "execution_count": 5,
   "metadata": {},
   "outputs": [],
   "source": [
    "y_actual = 5 + 1.9*x + res"
   ]
  },
  {
   "cell_type": "code",
   "execution_count": 6,
   "metadata": {},
   "outputs": [],
   "source": [
    "x_list = x.tolist()\n",
    "y_pred_list = y_pred.tolist()\n",
    "y_actual_list = y_actual.tolist()"
   ]
  },
  {
   "cell_type": "code",
   "execution_count": 7,
   "metadata": {},
   "outputs": [],
   "source": [
    "data = pd.DataFrame({\n",
    "    'x' : x_list,\n",
    "    'y' : y_actual_list,\n",
    "    'y_pred' : y_pred_list\n",
    "})"
   ]
  },
  {
   "cell_type": "code",
   "execution_count": 8,
   "metadata": {},
   "outputs": [
    {
     "data": {
      "text/html": [
       "<div>\n",
       "<style scoped>\n",
       "    .dataframe tbody tr th:only-of-type {\n",
       "        vertical-align: middle;\n",
       "    }\n",
       "\n",
       "    .dataframe tbody tr th {\n",
       "        vertical-align: top;\n",
       "    }\n",
       "\n",
       "    .dataframe thead th {\n",
       "        text-align: right;\n",
       "    }\n",
       "</style>\n",
       "<table border=\"1\" class=\"dataframe\">\n",
       "  <thead>\n",
       "    <tr style=\"text-align: right;\">\n",
       "      <th></th>\n",
       "      <th>x</th>\n",
       "      <th>y</th>\n",
       "      <th>y_pred</th>\n",
       "    </tr>\n",
       "  </thead>\n",
       "  <tbody>\n",
       "    <tr>\n",
       "      <th>0</th>\n",
       "      <td>2.014737</td>\n",
       "      <td>7.602166</td>\n",
       "      <td>8.828001</td>\n",
       "    </tr>\n",
       "    <tr>\n",
       "      <th>1</th>\n",
       "      <td>3.345010</td>\n",
       "      <td>10.518720</td>\n",
       "      <td>11.355519</td>\n",
       "    </tr>\n",
       "    <tr>\n",
       "      <th>2</th>\n",
       "      <td>2.672782</td>\n",
       "      <td>9.290390</td>\n",
       "      <td>10.078287</td>\n",
       "    </tr>\n",
       "    <tr>\n",
       "      <th>3</th>\n",
       "      <td>5.498466</td>\n",
       "      <td>14.887939</td>\n",
       "      <td>15.447086</td>\n",
       "    </tr>\n",
       "    <tr>\n",
       "      <th>4</th>\n",
       "      <td>3.057673</td>\n",
       "      <td>11.390783</td>\n",
       "      <td>10.809578</td>\n",
       "    </tr>\n",
       "    <tr>\n",
       "      <th>...</th>\n",
       "      <td>...</td>\n",
       "      <td>...</td>\n",
       "      <td>...</td>\n",
       "    </tr>\n",
       "    <tr>\n",
       "      <th>95</th>\n",
       "      <td>3.917699</td>\n",
       "      <td>11.357929</td>\n",
       "      <td>12.443628</td>\n",
       "    </tr>\n",
       "    <tr>\n",
       "      <th>96</th>\n",
       "      <td>1.759724</td>\n",
       "      <td>9.408914</td>\n",
       "      <td>8.343475</td>\n",
       "    </tr>\n",
       "    <tr>\n",
       "      <th>97</th>\n",
       "      <td>1.136260</td>\n",
       "      <td>8.385568</td>\n",
       "      <td>7.158895</td>\n",
       "    </tr>\n",
       "    <tr>\n",
       "      <th>98</th>\n",
       "      <td>2.961210</td>\n",
       "      <td>11.958964</td>\n",
       "      <td>10.626298</td>\n",
       "    </tr>\n",
       "    <tr>\n",
       "      <th>99</th>\n",
       "      <td>-0.809477</td>\n",
       "      <td>4.468618</td>\n",
       "      <td>3.461994</td>\n",
       "    </tr>\n",
       "  </tbody>\n",
       "</table>\n",
       "<p>100 rows × 3 columns</p>\n",
       "</div>"
      ],
      "text/plain": [
       "           x          y     y_pred\n",
       "0   2.014737   7.602166   8.828001\n",
       "1   3.345010  10.518720  11.355519\n",
       "2   2.672782   9.290390  10.078287\n",
       "3   5.498466  14.887939  15.447086\n",
       "4   3.057673  11.390783  10.809578\n",
       "..       ...        ...        ...\n",
       "95  3.917699  11.357929  12.443628\n",
       "96  1.759724   9.408914   8.343475\n",
       "97  1.136260   8.385568   7.158895\n",
       "98  2.961210  11.958964  10.626298\n",
       "99 -0.809477   4.468618   3.461994\n",
       "\n",
       "[100 rows x 3 columns]"
      ]
     },
     "execution_count": 8,
     "metadata": {},
     "output_type": "execute_result"
    }
   ],
   "source": [
    "data"
   ]
  },
  {
   "cell_type": "code",
   "execution_count": 9,
   "metadata": {},
   "outputs": [],
   "source": [
    "import matplotlib.pyplot as plt"
   ]
  },
  {
   "cell_type": "code",
   "execution_count": 10,
   "metadata": {},
   "outputs": [],
   "source": [
    "y_mean = [np.mean(y_actual) for i in range(len(x_list))]"
   ]
  },
  {
   "cell_type": "code",
   "execution_count": 11,
   "metadata": {},
   "outputs": [
    {
     "data": {
      "text/plain": [
       "Text(0.5, 1.0, 'Valor Actual vs Predicción')"
      ]
     },
     "execution_count": 11,
     "metadata": {},
     "output_type": "execute_result"
    },
    {
     "data": {
      "image/png": "[encoded data removed]",
      "text/plain": [
       "<Figure size 432x288 with 1 Axes>"
      ]
     },
     "metadata": {
      "needs_background": "light"
     },
     "output_type": "display_data"
    }
   ],
   "source": [
    "%matplotlib inline \n",
    "\n",
    "plt.plot(x,y_pred)\n",
    "plt.plot(x,y_actual, 'ro')\n",
    "plt.plot(x,y_mean, 'g')\n",
    "plt.title('Valor Actual vs Predicción')"
   ]
  },
  {
   "cell_type": "code",
   "execution_count": 12,
   "metadata": {},
   "outputs": [],
   "source": [
    "data['SSR'] = (data['y_pred']-np.mean(y_actual)) ** 2\n",
    "data['SSD'] = (data['y_pred']-data['y']) ** 2\n",
    "data['SST'] = (data['y']-np.mean(y_actual)) ** 2"
   ]
  },
  {
   "cell_type": "code",
   "execution_count": 13,
   "metadata": {},
   "outputs": [
    {
     "data": {
      "text/html": [
       "<div>\n",
       "<style scoped>\n",
       "    .dataframe tbody tr th:only-of-type {\n",
       "        vertical-align: middle;\n",
       "    }\n",
       "\n",
       "    .dataframe tbody tr th {\n",
       "        vertical-align: top;\n",
       "    }\n",
       "\n",
       "    .dataframe thead th {\n",
       "        text-align: right;\n",
       "    }\n",
       "</style>\n",
       "<table border=\"1\" class=\"dataframe\">\n",
       "  <thead>\n",
       "    <tr style=\"text-align: right;\">\n",
       "      <th></th>\n",
       "      <th>x</th>\n",
       "      <th>y</th>\n",
       "      <th>y_pred</th>\n",
       "      <th>SSR</th>\n",
       "      <th>SSD</th>\n",
       "      <th>SST</th>\n",
       "    </tr>\n",
       "  </thead>\n",
       "  <tbody>\n",
       "    <tr>\n",
       "      <th>0</th>\n",
       "      <td>2.014737</td>\n",
       "      <td>7.602166</td>\n",
       "      <td>8.828001</td>\n",
       "      <td>0.431355</td>\n",
       "      <td>1.502672</td>\n",
       "      <td>0.323828</td>\n",
       "    </tr>\n",
       "    <tr>\n",
       "      <th>1</th>\n",
       "      <td>3.345010</td>\n",
       "      <td>10.518720</td>\n",
       "      <td>11.355519</td>\n",
       "      <td>10.139725</td>\n",
       "      <td>0.700232</td>\n",
       "      <td>5.510731</td>\n",
       "    </tr>\n",
       "    <tr>\n",
       "      <th>2</th>\n",
       "      <td>2.672782</td>\n",
       "      <td>9.290390</td>\n",
       "      <td>10.078287</td>\n",
       "      <td>3.636884</td>\n",
       "      <td>0.620781</td>\n",
       "      <td>1.252530</td>\n",
       "    </tr>\n",
       "    <tr>\n",
       "      <th>3</th>\n",
       "      <td>5.498466</td>\n",
       "      <td>14.887939</td>\n",
       "      <td>15.447086</td>\n",
       "      <td>52.938150</td>\n",
       "      <td>0.312645</td>\n",
       "      <td>45.114250</td>\n",
       "    </tr>\n",
       "    <tr>\n",
       "      <th>4</th>\n",
       "      <td>3.057673</td>\n",
       "      <td>11.390783</td>\n",
       "      <td>10.809578</td>\n",
       "      <td>6.960905</td>\n",
       "      <td>0.337799</td>\n",
       "      <td>10.365553</td>\n",
       "    </tr>\n",
       "    <tr>\n",
       "      <th>5</th>\n",
       "      <td>2.708390</td>\n",
       "      <td>9.770750</td>\n",
       "      <td>10.145942</td>\n",
       "      <td>3.899506</td>\n",
       "      <td>0.140769</td>\n",
       "      <td>2.558479</td>\n",
       "    </tr>\n",
       "    <tr>\n",
       "      <th>6</th>\n",
       "      <td>0.782100</td>\n",
       "      <td>5.923832</td>\n",
       "      <td>6.485991</td>\n",
       "      <td>2.840015</td>\n",
       "      <td>0.316023</td>\n",
       "      <td>5.050777</td>\n",
       "    </tr>\n",
       "    <tr>\n",
       "      <th>7</th>\n",
       "      <td>1.444113</td>\n",
       "      <td>8.047162</td>\n",
       "      <td>7.743816</td>\n",
       "      <td>0.182679</td>\n",
       "      <td>0.092019</td>\n",
       "      <td>0.015392</td>\n",
       "    </tr>\n",
       "    <tr>\n",
       "      <th>8</th>\n",
       "      <td>-0.981201</td>\n",
       "      <td>3.835152</td>\n",
       "      <td>3.135718</td>\n",
       "      <td>25.356329</td>\n",
       "      <td>0.489207</td>\n",
       "      <td>18.801531</td>\n",
       "    </tr>\n",
       "    <tr>\n",
       "      <th>9</th>\n",
       "      <td>1.057239</td>\n",
       "      <td>8.288700</td>\n",
       "      <td>7.008754</td>\n",
       "      <td>1.351339</td>\n",
       "      <td>1.638262</td>\n",
       "      <td>0.013800</td>\n",
       "    </tr>\n",
       "  </tbody>\n",
       "</table>\n",
       "</div>"
      ],
      "text/plain": [
       "          x          y     y_pred        SSR       SSD        SST\n",
       "0  2.014737   7.602166   8.828001   0.431355  1.502672   0.323828\n",
       "1  3.345010  10.518720  11.355519  10.139725  0.700232   5.510731\n",
       "2  2.672782   9.290390  10.078287   3.636884  0.620781   1.252530\n",
       "3  5.498466  14.887939  15.447086  52.938150  0.312645  45.114250\n",
       "4  3.057673  11.390783  10.809578   6.960905  0.337799  10.365553\n",
       "5  2.708390   9.770750  10.145942   3.899506  0.140769   2.558479\n",
       "6  0.782100   5.923832   6.485991   2.840015  0.316023   5.050777\n",
       "7  1.444113   8.047162   7.743816   0.182679  0.092019   0.015392\n",
       "8 -0.981201   3.835152   3.135718  25.356329  0.489207  18.801531\n",
       "9  1.057239   8.288700   7.008754   1.351339  1.638262   0.013800"
      ]
     },
     "execution_count": 13,
     "metadata": {},
     "output_type": "execute_result"
    }
   ],
   "source": [
    "data.head(10)"
   ]
  },
  {
   "cell_type": "code",
   "execution_count": 14,
   "metadata": {},
   "outputs": [],
   "source": [
    "SSR = sum(data['SSR'])\n",
    "SSD = sum(data['SSD'])\n",
    "SST = sum(data['SST'])"
   ]
  },
  {
   "cell_type": "code",
   "execution_count": 15,
   "metadata": {},
   "outputs": [
    {
     "data": {
      "text/plain": [
       "1483.6290786503573"
      ]
     },
     "execution_count": 15,
     "metadata": {},
     "output_type": "execute_result"
    }
   ],
   "source": [
    "SSR "
   ]
  },
  {
   "cell_type": "code",
   "execution_count": 16,
   "metadata": {},
   "outputs": [
    {
     "data": {
      "text/plain": [
       "72.68745993867826"
      ]
     },
     "execution_count": 16,
     "metadata": {},
     "output_type": "execute_result"
    }
   ],
   "source": [
    "SSD"
   ]
  },
  {
   "cell_type": "code",
   "execution_count": 17,
   "metadata": {},
   "outputs": [
    {
     "data": {
      "text/plain": [
       "1541.2138904341298"
      ]
     },
     "execution_count": 17,
     "metadata": {},
     "output_type": "execute_result"
    }
   ],
   "source": [
    "SST"
   ]
  },
  {
   "cell_type": "code",
   "execution_count": 18,
   "metadata": {},
   "outputs": [
    {
     "data": {
      "text/plain": [
       "1556.3165385890356"
      ]
     },
     "execution_count": 18,
     "metadata": {},
     "output_type": "execute_result"
    }
   ],
   "source": [
    "SSR + SSD"
   ]
  },
  {
   "cell_type": "code",
   "execution_count": 19,
   "metadata": {},
   "outputs": [],
   "source": [
    "R2 = SSR / SST"
   ]
  },
  {
   "cell_type": "code",
   "execution_count": 20,
   "metadata": {},
   "outputs": [
    {
     "data": {
      "text/plain": [
       "0.9626367163304297"
      ]
     },
     "execution_count": 20,
     "metadata": {},
     "output_type": "execute_result"
    }
   ],
   "source": [
    "R2"
   ]
  },
  {
   "cell_type": "code",
   "execution_count": 23,
   "metadata": {},
   "outputs": [
    {
     "data": {
      "text/plain": [
       "(array([ 3.,  3.,  7., 11., 11., 15., 11., 18., 13.,  8.]),\n",
       " array([-2.1786018 , -1.81872349, -1.45884517, -1.09896685, -0.73908854,\n",
       "        -0.37921022, -0.01933191,  0.34054641,  0.70042473,  1.06030304,\n",
       "         1.42018136]),\n",
       " <BarContainer object of 10 artists>)"
      ]
     },
     "execution_count": 23,
     "metadata": {},
     "output_type": "execute_result"
    },
    {
     "data": {
      "image/png": "[encoded data removed]",
      "text/plain": [
       "<Figure size 432x288 with 1 Axes>"
      ]
     },
     "metadata": {
      "needs_background": "light"
     },
     "output_type": "display_data"
    }
   ],
   "source": [
    "plt.hist((data['y_pred']-data['y']))"
   ]
  },
  {
   "cell_type": "markdown",
   "metadata": {},
   "source": [
    "# Obteniendo la recta de regresión\n",
    "\n",
    "* y = a + x*b\n",
    "* b = cov(x,y) / var(x)\n",
    "* a = y_media - b*x_media"
   ]
  },
  {
   "cell_type": "code",
   "execution_count": 24,
   "metadata": {},
   "outputs": [
    {
     "data": {
      "text/plain": [
       "(1.6277847588061325, 8.171225056485113)"
      ]
     },
     "execution_count": 24,
     "metadata": {},
     "output_type": "execute_result"
    }
   ],
   "source": [
    "x_mean = np.mean(data['x'])\n",
    "y_mean = np.mean(data['y'])\n",
    "x_mean, y_mean"
   ]
  },
  {
   "cell_type": "code",
   "execution_count": 25,
   "metadata": {},
   "outputs": [],
   "source": [
    "data['beta_cov'] = (data['x']-x_mean) * (data['y']-y_mean)\n",
    "data['beta_var'] = (data['x']-x_mean)**2 "
   ]
  },
  {
   "cell_type": "code",
   "execution_count": 26,
   "metadata": {},
   "outputs": [],
   "source": [
    "beta = sum(data['beta_cov']) / sum(data['beta_var'])"
   ]
  },
  {
   "cell_type": "code",
   "execution_count": 27,
   "metadata": {},
   "outputs": [],
   "source": [
    "alpha = y_mean - beta*x_mean"
   ]
  },
  {
   "cell_type": "code",
   "execution_count": 28,
   "metadata": {},
   "outputs": [
    {
     "data": {
      "text/plain": [
       "(5.092899162479867, 1.8911135992346955)"
      ]
     },
     "execution_count": 28,
     "metadata": {},
     "output_type": "execute_result"
    }
   ],
   "source": [
    "alpha, beta"
   ]
  },
  {
   "cell_type": "markdown",
   "metadata": {},
   "source": [
    "El modelo lineal obtenido por regresión es: y = 5.09 + 1.89*x"
   ]
  },
  {
   "cell_type": "code",
   "execution_count": 29,
   "metadata": {},
   "outputs": [],
   "source": [
    "data['y_model'] = alpha + beta*data['x']"
   ]
  },
  {
   "cell_type": "code",
   "execution_count": 30,
   "metadata": {},
   "outputs": [
    {
     "data": {
      "text/html": [
       "<div>\n",
       "<style scoped>\n",
       "    .dataframe tbody tr th:only-of-type {\n",
       "        vertical-align: middle;\n",
       "    }\n",
       "\n",
       "    .dataframe tbody tr th {\n",
       "        vertical-align: top;\n",
       "    }\n",
       "\n",
       "    .dataframe thead th {\n",
       "        text-align: right;\n",
       "    }\n",
       "</style>\n",
       "<table border=\"1\" class=\"dataframe\">\n",
       "  <thead>\n",
       "    <tr style=\"text-align: right;\">\n",
       "      <th></th>\n",
       "      <th>x</th>\n",
       "      <th>y</th>\n",
       "      <th>y_pred</th>\n",
       "      <th>SSR</th>\n",
       "      <th>SSD</th>\n",
       "      <th>SST</th>\n",
       "      <th>beta_cov</th>\n",
       "      <th>beta_var</th>\n",
       "      <th>y_model</th>\n",
       "    </tr>\n",
       "  </thead>\n",
       "  <tbody>\n",
       "    <tr>\n",
       "      <th>0</th>\n",
       "      <td>2.014737</td>\n",
       "      <td>7.602166</td>\n",
       "      <td>8.828001</td>\n",
       "      <td>0.431355</td>\n",
       "      <td>1.502672</td>\n",
       "      <td>0.323828</td>\n",
       "      <td>-0.220199</td>\n",
       "      <td>0.149732</td>\n",
       "      <td>8.902996</td>\n",
       "    </tr>\n",
       "    <tr>\n",
       "      <th>1</th>\n",
       "      <td>3.345010</td>\n",
       "      <td>10.518720</td>\n",
       "      <td>11.355519</td>\n",
       "      <td>10.139725</td>\n",
       "      <td>0.700232</td>\n",
       "      <td>5.510731</td>\n",
       "      <td>4.031177</td>\n",
       "      <td>2.948862</td>\n",
       "      <td>11.418693</td>\n",
       "    </tr>\n",
       "    <tr>\n",
       "      <th>2</th>\n",
       "      <td>2.672782</td>\n",
       "      <td>9.290390</td>\n",
       "      <td>10.078287</td>\n",
       "      <td>3.636884</td>\n",
       "      <td>0.620781</td>\n",
       "      <td>1.252530</td>\n",
       "      <td>1.169525</td>\n",
       "      <td>1.092020</td>\n",
       "      <td>10.147434</td>\n",
       "    </tr>\n",
       "    <tr>\n",
       "      <th>3</th>\n",
       "      <td>5.498466</td>\n",
       "      <td>14.887939</td>\n",
       "      <td>15.447086</td>\n",
       "      <td>52.938150</td>\n",
       "      <td>0.312645</td>\n",
       "      <td>45.114250</td>\n",
       "      <td>25.998261</td>\n",
       "      <td>14.982175</td>\n",
       "      <td>15.491123</td>\n",
       "    </tr>\n",
       "    <tr>\n",
       "      <th>4</th>\n",
       "      <td>3.057673</td>\n",
       "      <td>11.390783</td>\n",
       "      <td>10.809578</td>\n",
       "      <td>6.960905</td>\n",
       "      <td>0.337799</td>\n",
       "      <td>10.365553</td>\n",
       "      <td>4.603606</td>\n",
       "      <td>2.044579</td>\n",
       "      <td>10.875305</td>\n",
       "    </tr>\n",
       "    <tr>\n",
       "      <th>5</th>\n",
       "      <td>2.708390</td>\n",
       "      <td>9.770750</td>\n",
       "      <td>10.145942</td>\n",
       "      <td>3.899506</td>\n",
       "      <td>0.140769</td>\n",
       "      <td>2.558479</td>\n",
       "      <td>1.728455</td>\n",
       "      <td>1.167709</td>\n",
       "      <td>10.214773</td>\n",
       "    </tr>\n",
       "    <tr>\n",
       "      <th>6</th>\n",
       "      <td>0.782100</td>\n",
       "      <td>5.923832</td>\n",
       "      <td>6.485991</td>\n",
       "      <td>2.840015</td>\n",
       "      <td>0.316023</td>\n",
       "      <td>5.050777</td>\n",
       "      <td>1.900586</td>\n",
       "      <td>0.715182</td>\n",
       "      <td>6.571940</td>\n",
       "    </tr>\n",
       "    <tr>\n",
       "      <th>7</th>\n",
       "      <td>1.444113</td>\n",
       "      <td>8.047162</td>\n",
       "      <td>7.743816</td>\n",
       "      <td>0.182679</td>\n",
       "      <td>0.092019</td>\n",
       "      <td>0.015392</td>\n",
       "      <td>0.022787</td>\n",
       "      <td>0.033735</td>\n",
       "      <td>7.823882</td>\n",
       "    </tr>\n",
       "    <tr>\n",
       "      <th>8</th>\n",
       "      <td>-0.981201</td>\n",
       "      <td>3.835152</td>\n",
       "      <td>3.135718</td>\n",
       "      <td>25.356329</td>\n",
       "      <td>0.489207</td>\n",
       "      <td>18.801531</td>\n",
       "      <td>11.312753</td>\n",
       "      <td>6.806806</td>\n",
       "      <td>3.237337</td>\n",
       "    </tr>\n",
       "    <tr>\n",
       "      <th>9</th>\n",
       "      <td>1.057239</td>\n",
       "      <td>8.288700</td>\n",
       "      <td>7.008754</td>\n",
       "      <td>1.351339</td>\n",
       "      <td>1.638262</td>\n",
       "      <td>0.013800</td>\n",
       "      <td>-0.067025</td>\n",
       "      <td>0.325522</td>\n",
       "      <td>7.092258</td>\n",
       "    </tr>\n",
       "  </tbody>\n",
       "</table>\n",
       "</div>"
      ],
      "text/plain": [
       "          x          y     y_pred        SSR       SSD        SST   beta_cov  \\\n",
       "0  2.014737   7.602166   8.828001   0.431355  1.502672   0.323828  -0.220199   \n",
       "1  3.345010  10.518720  11.355519  10.139725  0.700232   5.510731   4.031177   \n",
       "2  2.672782   9.290390  10.078287   3.636884  0.620781   1.252530   1.169525   \n",
       "3  5.498466  14.887939  15.447086  52.938150  0.312645  45.114250  25.998261   \n",
       "4  3.057673  11.390783  10.809578   6.960905  0.337799  10.365553   4.603606   \n",
       "5  2.708390   9.770750  10.145942   3.899506  0.140769   2.558479   1.728455   \n",
       "6  0.782100   5.923832   6.485991   2.840015  0.316023   5.050777   1.900586   \n",
       "7  1.444113   8.047162   7.743816   0.182679  0.092019   0.015392   0.022787   \n",
       "8 -0.981201   3.835152   3.135718  25.356329  0.489207  18.801531  11.312753   \n",
       "9  1.057239   8.288700   7.008754   1.351339  1.638262   0.013800  -0.067025   \n",
       "\n",
       "    beta_var    y_model  \n",
       "0   0.149732   8.902996  \n",
       "1   2.948862  11.418693  \n",
       "2   1.092020  10.147434  \n",
       "3  14.982175  15.491123  \n",
       "4   2.044579  10.875305  \n",
       "5   1.167709  10.214773  \n",
       "6   0.715182   6.571940  \n",
       "7   0.033735   7.823882  \n",
       "8   6.806806   3.237337  \n",
       "9   0.325522   7.092258  "
      ]
     },
     "execution_count": 30,
     "metadata": {},
     "output_type": "execute_result"
    }
   ],
   "source": [
    "data.head(10)"
   ]
  },
  {
   "cell_type": "code",
   "execution_count": 32,
   "metadata": {},
   "outputs": [],
   "source": [
    "SSR = sum((data['y_model']-y_mean)**2)\n",
    "SSD = sum((data['y_model']-data['y'])**2)\n",
    "SST = sum((data['y']-y_mean)**2)"
   ]
  },
  {
   "cell_type": "code",
   "execution_count": 33,
   "metadata": {},
   "outputs": [
    {
     "data": {
      "text/plain": [
       "(1469.1740606319122, 72.03982980221717, 1541.2138904341298)"
      ]
     },
     "execution_count": 33,
     "metadata": {},
     "output_type": "execute_result"
    }
   ],
   "source": [
    "SSR, SSD, SST"
   ]
  },
  {
   "cell_type": "code",
   "execution_count": 40,
   "metadata": {},
   "outputs": [
    {
     "data": {
      "text/plain": [
       "0.9532577338879775"
      ]
     },
     "execution_count": 40,
     "metadata": {},
     "output_type": "execute_result"
    }
   ],
   "source": [
    "R2 = SSR / SST\n",
    "R2"
   ]
  },
  {
   "cell_type": "code",
   "execution_count": 39,
   "metadata": {},
   "outputs": [
    {
     "data": {
      "text/plain": [
       "Text(0.5, 1.0, 'Valor Actual vs Predicción')"
      ]
     },
     "execution_count": 39,
     "metadata": {},
     "output_type": "execute_result"
    },
    {
     "data": {
      "image/png": "[encoded data removed]",
      "text/plain": [
       "<Figure size 432x288 with 1 Axes>"
      ]
     },
     "metadata": {
      "needs_background": "light"
     },
     "output_type": "display_data"
    }
   ],
   "source": [
    "%matplotlib inline \n",
    "y_mean = [np.mean(y_actual) for i in range(len(x_list))]\n",
    "\n",
    "plt.plot(data['x'],data['y_pred'])\n",
    "plt.plot(data['x'],data['y'], 'ro')\n",
    "plt.plot(data['x'],y_mean, 'g')\n",
    "plt.plot(data['x'],data['y_model'], 'k')\n",
    "plt.title('Valor Actual vs Predicción')"
   ]
  },
  {
   "cell_type": "code",
   "execution_count": 37,
   "metadata": {},
   "outputs": [
    {
     "data": {
      "text/plain": [
       "(array([ 3.,  3.,  7., 11., 12., 13., 11., 18., 11., 11.]),\n",
       " array([-2.10566289, -1.74704955, -1.3884362 , -1.02982286, -0.67120951,\n",
       "        -0.31259616,  0.04601718,  0.40463053,  0.76324387,  1.12185722,\n",
       "         1.48047057]),\n",
       " <BarContainer object of 10 artists>)"
      ]
     },
     "execution_count": 37,
     "metadata": {},
     "output_type": "execute_result"
    },
    {
     "data": {
      "image/png": "[encoded data removed]",
      "text/plain": [
       "<Figure size 432x288 with 1 Axes>"
      ]
     },
     "metadata": {
      "needs_background": "light"
     },
     "output_type": "display_data"
    }
   ],
   "source": [
    "plt.hist((data['y_model']-data['y']))"
   ]
  },
  {
   "cell_type": "markdown",
   "metadata": {},
   "source": [
    "# Error estándar de los Residuos (RSE)"
   ]
  },
  {
   "cell_type": "code",
   "execution_count": 41,
   "metadata": {},
   "outputs": [
    {
     "data": {
      "text/plain": [
       "0.8573799065200075"
      ]
     },
     "execution_count": 41,
     "metadata": {},
     "output_type": "execute_result"
    }
   ],
   "source": [
    "RSE = np.sqrt(SSD / (len(data)-2))\n",
    "RSE"
   ]
  },
  {
   "cell_type": "code",
   "execution_count": 42,
   "metadata": {},
   "outputs": [
    {
     "data": {
      "text/plain": [
       "8.171225056485113"
      ]
     },
     "execution_count": 42,
     "metadata": {},
     "output_type": "execute_result"
    }
   ],
   "source": [
    "np.mean(data['y'])"
   ]
  },
  {
   "cell_type": "code",
   "execution_count": 43,
   "metadata": {},
   "outputs": [
    {
     "data": {
      "text/plain": [
       "0.10492672770523506"
      ]
     },
     "execution_count": 43,
     "metadata": {},
     "output_type": "execute_result"
    }
   ],
   "source": [
    "RSE /np.mean(data['y'])"
   ]
  },
  {
   "cell_type": "code",
   "execution_count": null,
   "metadata": {},
   "outputs": [],
   "source": []
  }
 ],
 "metadata": {
  "kernelspec": {
   "display_name": "Python 3",
   "language": "python",
   "name": "python3"
  },
  "language_info": {
   "codemirror_mode": {
    "name": "ipython",
    "version": 3
   },
   "file_extension": ".py",
   "mimetype": "text/x-python",
   "name": "python",
   "nbconvert_exporter": "python",
   "pygments_lexer": "ipython3",
   "version": "3.7.6"
  }
 },
 "nbformat": 4,
 "nbformat_minor": 4
}
